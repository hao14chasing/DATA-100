{
 "cells": [
  {
   "cell_type": "code",
   "execution_count": 1,
   "id": "c2c5b2ef",
   "metadata": {
    "deletable": false,
    "editable": false
   },
   "outputs": [],
   "source": [
    "# Initialize Otter\n",
    "import otter\n",
    "grader = otter.Notebook(\"hw07.ipynb\")"
   ]
  },
  {
   "cell_type": "markdown",
   "id": "2128314b",
   "metadata": {},
   "source": [
    "# Homework 7: Probability and Estimators\n",
    "## Due Date: Thursday, July 27th, 11:59 PM PDT\n",
    "\n",
    "You must submit this assignment to Gradescope by the on-time deadline, Thursday, July 27th, 11:59pm. Please read the syllabus for the grace period policy. No late\n",
    "submissions beyond the grace period will be accepted. **We strongly encourage you to plan to submit your work to Gradescope several hours before the stated deadline.** This way, you will have ample time to reach out to staff for support if you encounter difficulties with submission. While course staff is happy to help guide you with submitting your assignment ahead of the deadline, we will not respond to last-minute requests for assistance (TAs need to sleep, after all!).\n",
    "\n",
    "Please read the instructions carefully to submit your work to both the coding and written portals of Gradescope.\n",
    "\n",
    "\n",
    "## Content Warning\n",
    "\n",
    "This assignment includes an analysis of daily COVID-19 cases by U.S. county through 2021. If you feel uncomfortable with this topic, **please contact your GSI or the instructors.**\n",
    "\n",
    "\n",
    "\n",
    "## Collaboration Policy\n",
    "\n",
    "Data science is a collaborative activity. While you may talk with others about the homework, we ask that you **write your solutions individually**. If you do discuss the assignments with others please **include their names** below."
   ]
  },
  {
   "cell_type": "markdown",
   "id": "49aa3fc1",
   "metadata": {},
   "source": [
    "**Collaborators**: *list collaborators here*"
   ]
  },
  {
   "cell_type": "markdown",
   "id": "6db797ba",
   "metadata": {},
   "source": [
    "## Introduction\n",
    "\n",
    "In this homework, we will investigate a dataset that contains information about COVID-19 cases in the United States, vaccination rates, and various other metadata that can assist in modeling various aspects of COVID-19.\n",
    "\n",
    "Through this homework assignment, you will demonstrate your experience with:\n",
    "* Bootstrap sampling\n",
    "* Bias-variance tradeoff and decomposition\n",
    "* Multicollinearity in features\n",
    "\n",
    "## Grading\n",
    "Grading is broken down into autograded answers and free response. \n",
    "\n",
    "For autograded answers, the results of your code are compared to provided and/or hidden tests.\n",
    "\n",
    "For free response, readers will evaluate how well you answered the question and/or fulfilled the requirements of the question. \n",
    "\n",
    "### Score breakdown\n",
    "\n",
    "Question | Manual | Points\n",
    "--- |---| ---\n",
    "1a| No | 3\n",
    "1b| No | 1\n",
    "1c| Yes | 3\n",
    "1d| Yes | 3\n",
    "2a| No | 4\n",
    "2b| Yes |3\n",
    "2c| Yes | 1\n",
    "3a| No | 2\n",
    "3b| No | 4\n",
    "3c| No | 2\n",
    "3d| Yes | 3\n",
    "4a| No | 3\n",
    "4b| Yes | 3\n",
    "4c| No | 2\n",
    "4d| Yes | 2\n",
    "Total | 7 | 39"
   ]
  },
  {
   "cell_type": "code",
   "execution_count": 2,
   "id": "036495c1",
   "metadata": {},
   "outputs": [],
   "source": [
    "# Run this cell to set up your notebook\n",
    "import numpy as np\n",
    "import pandas as pd\n",
    "import sklearn.linear_model as lm\n",
    "from sklearn.model_selection import train_test_split\n",
    "\n",
    "import matplotlib.pyplot as plt\n",
    "import seaborn as sns\n",
    "from IPython.display import Markdown\n",
    "\n",
    "import scipy.stats\n",
    "\n",
    "import warnings\n",
    "warnings.filterwarnings(\"ignore\")"
   ]
  },
  {
   "cell_type": "markdown",
   "id": "c3063287",
   "metadata": {},
   "source": [
    "<br/><br/><br/>\n",
    "\n",
    "<hr style=\"border: 5px solid #003262;\" />\n",
    "<hr style=\"border: 1px solid #fdb515;\" />\n",
    "\n",
    "## Question 1: Exploratory Data Analysis\n",
    "\n",
    "Let's perform some initial exploratory data analysis to examine and visualize potential trends in a COVID-19 dataset."
   ]
  },
  {
   "cell_type": "code",
   "execution_count": 3,
   "id": "913590e5",
   "metadata": {},
   "outputs": [
    {
     "data": {
      "text/html": [
       "<div>\n",
       "<style scoped>\n",
       "    .dataframe tbody tr th:only-of-type {\n",
       "        vertical-align: middle;\n",
       "    }\n",
       "\n",
       "    .dataframe tbody tr th {\n",
       "        vertical-align: top;\n",
       "    }\n",
       "\n",
       "    .dataframe thead th {\n",
       "        text-align: right;\n",
       "    }\n",
       "</style>\n",
       "<table border=\"1\" class=\"dataframe\">\n",
       "  <thead>\n",
       "    <tr style=\"text-align: right;\">\n",
       "      <th></th>\n",
       "      <th>UID</th>\n",
       "      <th>iso2</th>\n",
       "      <th>iso3</th>\n",
       "      <th>code3</th>\n",
       "      <th>FIPS</th>\n",
       "      <th>Admin2</th>\n",
       "      <th>Province_State</th>\n",
       "      <th>Country_Region</th>\n",
       "      <th>Lat</th>\n",
       "      <th>Long_</th>\n",
       "      <th>...</th>\n",
       "      <th>POPESTIMATE2018</th>\n",
       "      <th>POPESTIMATE2019</th>\n",
       "      <th>POPESTIMATE042020</th>\n",
       "      <th>POPESTIMATE2020</th>\n",
       "      <th>COUNTYFP</th>\n",
       "      <th>NEVER</th>\n",
       "      <th>RARELY</th>\n",
       "      <th>SOMETIMES</th>\n",
       "      <th>FREQUENTLY</th>\n",
       "      <th>ALWAYS</th>\n",
       "    </tr>\n",
       "  </thead>\n",
       "  <tbody>\n",
       "    <tr>\n",
       "      <th>0</th>\n",
       "      <td>84001001</td>\n",
       "      <td>US</td>\n",
       "      <td>USA</td>\n",
       "      <td>840</td>\n",
       "      <td>1001</td>\n",
       "      <td>Autauga</td>\n",
       "      <td>Alabama</td>\n",
       "      <td>US</td>\n",
       "      <td>32.539527</td>\n",
       "      <td>-86.644082</td>\n",
       "      <td>...</td>\n",
       "      <td>55533</td>\n",
       "      <td>55769</td>\n",
       "      <td>56130</td>\n",
       "      <td>56145</td>\n",
       "      <td>1001</td>\n",
       "      <td>0.053</td>\n",
       "      <td>0.074</td>\n",
       "      <td>0.134</td>\n",
       "      <td>0.295</td>\n",
       "      <td>0.444</td>\n",
       "    </tr>\n",
       "    <tr>\n",
       "      <th>1</th>\n",
       "      <td>84001003</td>\n",
       "      <td>US</td>\n",
       "      <td>USA</td>\n",
       "      <td>840</td>\n",
       "      <td>1003</td>\n",
       "      <td>Baldwin</td>\n",
       "      <td>Alabama</td>\n",
       "      <td>US</td>\n",
       "      <td>30.727750</td>\n",
       "      <td>-87.722071</td>\n",
       "      <td>...</td>\n",
       "      <td>218071</td>\n",
       "      <td>223565</td>\n",
       "      <td>227989</td>\n",
       "      <td>229287</td>\n",
       "      <td>1003</td>\n",
       "      <td>0.083</td>\n",
       "      <td>0.059</td>\n",
       "      <td>0.098</td>\n",
       "      <td>0.323</td>\n",
       "      <td>0.436</td>\n",
       "    </tr>\n",
       "    <tr>\n",
       "      <th>2</th>\n",
       "      <td>84001005</td>\n",
       "      <td>US</td>\n",
       "      <td>USA</td>\n",
       "      <td>840</td>\n",
       "      <td>1005</td>\n",
       "      <td>Barbour</td>\n",
       "      <td>Alabama</td>\n",
       "      <td>US</td>\n",
       "      <td>31.868263</td>\n",
       "      <td>-85.387129</td>\n",
       "      <td>...</td>\n",
       "      <td>24887</td>\n",
       "      <td>24657</td>\n",
       "      <td>24652</td>\n",
       "      <td>24589</td>\n",
       "      <td>1005</td>\n",
       "      <td>0.067</td>\n",
       "      <td>0.121</td>\n",
       "      <td>0.120</td>\n",
       "      <td>0.201</td>\n",
       "      <td>0.491</td>\n",
       "    </tr>\n",
       "    <tr>\n",
       "      <th>3</th>\n",
       "      <td>84001007</td>\n",
       "      <td>US</td>\n",
       "      <td>USA</td>\n",
       "      <td>840</td>\n",
       "      <td>1007</td>\n",
       "      <td>Bibb</td>\n",
       "      <td>Alabama</td>\n",
       "      <td>US</td>\n",
       "      <td>32.996421</td>\n",
       "      <td>-87.125115</td>\n",
       "      <td>...</td>\n",
       "      <td>22300</td>\n",
       "      <td>22313</td>\n",
       "      <td>22199</td>\n",
       "      <td>22136</td>\n",
       "      <td>1007</td>\n",
       "      <td>0.020</td>\n",
       "      <td>0.034</td>\n",
       "      <td>0.096</td>\n",
       "      <td>0.278</td>\n",
       "      <td>0.572</td>\n",
       "    </tr>\n",
       "    <tr>\n",
       "      <th>4</th>\n",
       "      <td>84001009</td>\n",
       "      <td>US</td>\n",
       "      <td>USA</td>\n",
       "      <td>840</td>\n",
       "      <td>1009</td>\n",
       "      <td>Blount</td>\n",
       "      <td>Alabama</td>\n",
       "      <td>US</td>\n",
       "      <td>33.982109</td>\n",
       "      <td>-86.567906</td>\n",
       "      <td>...</td>\n",
       "      <td>57770</td>\n",
       "      <td>57840</td>\n",
       "      <td>57932</td>\n",
       "      <td>57879</td>\n",
       "      <td>1009</td>\n",
       "      <td>0.053</td>\n",
       "      <td>0.114</td>\n",
       "      <td>0.180</td>\n",
       "      <td>0.194</td>\n",
       "      <td>0.459</td>\n",
       "    </tr>\n",
       "  </tbody>\n",
       "</table>\n",
       "<p>5 rows × 638 columns</p>\n",
       "</div>"
      ],
      "text/plain": [
       "        UID iso2 iso3  code3  FIPS   Admin2 Province_State Country_Region  \\\n",
       "0  84001001   US  USA    840  1001  Autauga        Alabama             US   \n",
       "1  84001003   US  USA    840  1003  Baldwin        Alabama             US   \n",
       "2  84001005   US  USA    840  1005  Barbour        Alabama             US   \n",
       "3  84001007   US  USA    840  1007     Bibb        Alabama             US   \n",
       "4  84001009   US  USA    840  1009   Blount        Alabama             US   \n",
       "\n",
       "         Lat      Long_  ... POPESTIMATE2018  POPESTIMATE2019  \\\n",
       "0  32.539527 -86.644082  ...           55533            55769   \n",
       "1  30.727750 -87.722071  ...          218071           223565   \n",
       "2  31.868263 -85.387129  ...           24887            24657   \n",
       "3  32.996421 -87.125115  ...           22300            22313   \n",
       "4  33.982109 -86.567906  ...           57770            57840   \n",
       "\n",
       "   POPESTIMATE042020  POPESTIMATE2020  COUNTYFP  NEVER  RARELY  SOMETIMES  \\\n",
       "0              56130            56145      1001  0.053   0.074      0.134   \n",
       "1             227989           229287      1003  0.083   0.059      0.098   \n",
       "2              24652            24589      1005  0.067   0.121      0.120   \n",
       "3              22199            22136      1007  0.020   0.034      0.096   \n",
       "4              57932            57879      1009  0.053   0.114      0.180   \n",
       "\n",
       "   FREQUENTLY  ALWAYS  \n",
       "0       0.295   0.444  \n",
       "1       0.323   0.436  \n",
       "2       0.201   0.491  \n",
       "3       0.278   0.572  \n",
       "4       0.194   0.459  \n",
       "\n",
       "[5 rows x 638 columns]"
      ]
     },
     "execution_count": 3,
     "metadata": {},
     "output_type": "execute_result"
    }
   ],
   "source": [
    "# Run this cell to load the data, no further action needed.\n",
    "covid_data = pd.read_csv('data/covid_data.csv')\n",
    "covid_data.head(5)"
   ]
  },
  {
   "cell_type": "markdown",
   "id": "5602da39",
   "metadata": {},
   "source": [
    "The data are at county granularity; each row corresponds to COVID-19 data from one U.S. county. Here are some highlights and data sources:\n",
    "\n",
    "* The first few columns encode county and state data; for example, check out the [Federal Information Processing System (FIPS)](https://transition.fcc.gov/oet/info/maps/census/fips/fips.txt) numeric encoding for U.S. counties.\n",
    "* The next 600 columns record daily COVID-19 cases in the county for the date range 1/22/2020 to 9/12/2021. COVID-19 case data are from Center for Systems Sciences and Engineering (CSSE) at Johns Hopkins University [GitHub](https://github.com/CSSEGISandData/COVID-19/blob/master/csse_covid_19_data/csse_covid_19_time_series/time_series_covid19_confirmed_US.csv).\n",
    "* The next few columns include county populations from [U.S. census data](https://data.census.gov/), the latest of which is 2020.\n",
    "* The last 5 columns record mask usage survey data on a 5-point scale from `NEVER` to `ALWAYS`. Data are collected in July 2020 from the New York Times [GitHub](https://github.com/nytimes/covid-19-data/blob/master/mask-use/mask-use-by-county.csv). Each column represents the proportion of population in that county who never/rarely/sometimes/frequently/always wear masks. Note, for a particular row, the numbers in those five columns sum up to $1$.\n",
    "\n",
    "We can use `covid_data.describe()` to see various statistics about the numerical features of the provided COVID-19 data. Do any particular statistics stand out to you? Which might be useful when modeling?\n",
    "\n",
    "**Note:** This isn't a question (i.e. it's worth no points); This is just food for thought as you start to explore the dataset."
   ]
  },
  {
   "cell_type": "code",
   "execution_count": 4,
   "id": "a1ad1a60",
   "metadata": {},
   "outputs": [
    {
     "data": {
      "text/html": [
       "<div>\n",
       "<style scoped>\n",
       "    .dataframe tbody tr th:only-of-type {\n",
       "        vertical-align: middle;\n",
       "    }\n",
       "\n",
       "    .dataframe tbody tr th {\n",
       "        vertical-align: top;\n",
       "    }\n",
       "\n",
       "    .dataframe thead th {\n",
       "        text-align: right;\n",
       "    }\n",
       "</style>\n",
       "<table border=\"1\" class=\"dataframe\">\n",
       "  <thead>\n",
       "    <tr style=\"text-align: right;\">\n",
       "      <th></th>\n",
       "      <th>UID</th>\n",
       "      <th>code3</th>\n",
       "      <th>FIPS</th>\n",
       "      <th>Lat</th>\n",
       "      <th>Long_</th>\n",
       "      <th>1/22/20</th>\n",
       "      <th>1/23/20</th>\n",
       "      <th>1/24/20</th>\n",
       "      <th>1/25/20</th>\n",
       "      <th>1/26/20</th>\n",
       "      <th>...</th>\n",
       "      <th>POPESTIMATE2018</th>\n",
       "      <th>POPESTIMATE2019</th>\n",
       "      <th>POPESTIMATE042020</th>\n",
       "      <th>POPESTIMATE2020</th>\n",
       "      <th>COUNTYFP</th>\n",
       "      <th>NEVER</th>\n",
       "      <th>RARELY</th>\n",
       "      <th>SOMETIMES</th>\n",
       "      <th>FREQUENTLY</th>\n",
       "      <th>ALWAYS</th>\n",
       "    </tr>\n",
       "  </thead>\n",
       "  <tbody>\n",
       "    <tr>\n",
       "      <th>count</th>\n",
       "      <td>3.141000e+03</td>\n",
       "      <td>3141.0</td>\n",
       "      <td>3141.000000</td>\n",
       "      <td>3141.000000</td>\n",
       "      <td>3141.000000</td>\n",
       "      <td>3141.000000</td>\n",
       "      <td>3141.000000</td>\n",
       "      <td>3141.000000</td>\n",
       "      <td>3141.000000</td>\n",
       "      <td>3141.000000</td>\n",
       "      <td>...</td>\n",
       "      <td>3.141000e+03</td>\n",
       "      <td>3.141000e+03</td>\n",
       "      <td>3.141000e+03</td>\n",
       "      <td>3.141000e+03</td>\n",
       "      <td>3141.000000</td>\n",
       "      <td>3141.000000</td>\n",
       "      <td>3141.000000</td>\n",
       "      <td>3141.000000</td>\n",
       "      <td>3141.000000</td>\n",
       "      <td>3141.000000</td>\n",
       "    </tr>\n",
       "    <tr>\n",
       "      <th>mean</th>\n",
       "      <td>8.403039e+07</td>\n",
       "      <td>840.0</td>\n",
       "      <td>30392.602674</td>\n",
       "      <td>38.448156</td>\n",
       "      <td>-92.272006</td>\n",
       "      <td>0.000318</td>\n",
       "      <td>0.000318</td>\n",
       "      <td>0.000637</td>\n",
       "      <td>0.000637</td>\n",
       "      <td>0.001592</td>\n",
       "      <td>...</td>\n",
       "      <td>1.040525e+05</td>\n",
       "      <td>1.045274e+05</td>\n",
       "      <td>1.048677e+05</td>\n",
       "      <td>1.048949e+05</td>\n",
       "      <td>30392.602674</td>\n",
       "      <td>0.079952</td>\n",
       "      <td>0.082929</td>\n",
       "      <td>0.121340</td>\n",
       "      <td>0.207728</td>\n",
       "      <td>0.508044</td>\n",
       "    </tr>\n",
       "    <tr>\n",
       "      <th>std</th>\n",
       "      <td>1.515661e+04</td>\n",
       "      <td>0.0</td>\n",
       "      <td>15156.613190</td>\n",
       "      <td>5.292540</td>\n",
       "      <td>12.909318</td>\n",
       "      <td>0.017843</td>\n",
       "      <td>0.017843</td>\n",
       "      <td>0.025230</td>\n",
       "      <td>0.025230</td>\n",
       "      <td>0.039873</td>\n",
       "      <td>...</td>\n",
       "      <td>3.326200e+05</td>\n",
       "      <td>3.332156e+05</td>\n",
       "      <td>3.335848e+05</td>\n",
       "      <td>3.333719e+05</td>\n",
       "      <td>15156.613190</td>\n",
       "      <td>0.058543</td>\n",
       "      <td>0.055469</td>\n",
       "      <td>0.058007</td>\n",
       "      <td>0.063581</td>\n",
       "      <td>0.152190</td>\n",
       "    </tr>\n",
       "    <tr>\n",
       "      <th>min</th>\n",
       "      <td>8.400100e+07</td>\n",
       "      <td>840.0</td>\n",
       "      <td>1001.000000</td>\n",
       "      <td>19.601212</td>\n",
       "      <td>-174.159600</td>\n",
       "      <td>0.000000</td>\n",
       "      <td>0.000000</td>\n",
       "      <td>0.000000</td>\n",
       "      <td>0.000000</td>\n",
       "      <td>0.000000</td>\n",
       "      <td>...</td>\n",
       "      <td>8.700000e+01</td>\n",
       "      <td>8.700000e+01</td>\n",
       "      <td>9.000000e+01</td>\n",
       "      <td>8.700000e+01</td>\n",
       "      <td>1001.000000</td>\n",
       "      <td>0.000000</td>\n",
       "      <td>0.000000</td>\n",
       "      <td>0.001000</td>\n",
       "      <td>0.029000</td>\n",
       "      <td>0.115000</td>\n",
       "    </tr>\n",
       "    <tr>\n",
       "      <th>25%</th>\n",
       "      <td>8.401818e+07</td>\n",
       "      <td>840.0</td>\n",
       "      <td>18179.000000</td>\n",
       "      <td>34.693167</td>\n",
       "      <td>-98.218207</td>\n",
       "      <td>0.000000</td>\n",
       "      <td>0.000000</td>\n",
       "      <td>0.000000</td>\n",
       "      <td>0.000000</td>\n",
       "      <td>0.000000</td>\n",
       "      <td>...</td>\n",
       "      <td>1.096300e+04</td>\n",
       "      <td>1.093600e+04</td>\n",
       "      <td>1.091900e+04</td>\n",
       "      <td>1.092100e+04</td>\n",
       "      <td>18179.000000</td>\n",
       "      <td>0.034000</td>\n",
       "      <td>0.040000</td>\n",
       "      <td>0.079000</td>\n",
       "      <td>0.164000</td>\n",
       "      <td>0.393000</td>\n",
       "    </tr>\n",
       "    <tr>\n",
       "      <th>50%</th>\n",
       "      <td>8.402918e+07</td>\n",
       "      <td>840.0</td>\n",
       "      <td>29177.000000</td>\n",
       "      <td>38.373019</td>\n",
       "      <td>-90.396561</td>\n",
       "      <td>0.000000</td>\n",
       "      <td>0.000000</td>\n",
       "      <td>0.000000</td>\n",
       "      <td>0.000000</td>\n",
       "      <td>0.000000</td>\n",
       "      <td>...</td>\n",
       "      <td>2.583700e+04</td>\n",
       "      <td>2.573500e+04</td>\n",
       "      <td>2.570100e+04</td>\n",
       "      <td>2.565800e+04</td>\n",
       "      <td>29177.000000</td>\n",
       "      <td>0.068000</td>\n",
       "      <td>0.073000</td>\n",
       "      <td>0.115000</td>\n",
       "      <td>0.204000</td>\n",
       "      <td>0.497000</td>\n",
       "    </tr>\n",
       "    <tr>\n",
       "      <th>75%</th>\n",
       "      <td>8.404508e+07</td>\n",
       "      <td>840.0</td>\n",
       "      <td>45081.000000</td>\n",
       "      <td>41.802830</td>\n",
       "      <td>-83.436796</td>\n",
       "      <td>0.000000</td>\n",
       "      <td>0.000000</td>\n",
       "      <td>0.000000</td>\n",
       "      <td>0.000000</td>\n",
       "      <td>0.000000</td>\n",
       "      <td>...</td>\n",
       "      <td>6.813600e+04</td>\n",
       "      <td>6.828200e+04</td>\n",
       "      <td>6.822000e+04</td>\n",
       "      <td>6.824100e+04</td>\n",
       "      <td>45081.000000</td>\n",
       "      <td>0.113000</td>\n",
       "      <td>0.115000</td>\n",
       "      <td>0.156000</td>\n",
       "      <td>0.247000</td>\n",
       "      <td>0.613000</td>\n",
       "    </tr>\n",
       "    <tr>\n",
       "      <th>max</th>\n",
       "      <td>8.405604e+07</td>\n",
       "      <td>840.0</td>\n",
       "      <td>56045.000000</td>\n",
       "      <td>69.314792</td>\n",
       "      <td>-67.628135</td>\n",
       "      <td>1.000000</td>\n",
       "      <td>1.000000</td>\n",
       "      <td>1.000000</td>\n",
       "      <td>1.000000</td>\n",
       "      <td>1.000000</td>\n",
       "      <td>...</td>\n",
       "      <td>1.006153e+07</td>\n",
       "      <td>1.001160e+07</td>\n",
       "      <td>9.968969e+06</td>\n",
       "      <td>9.943046e+06</td>\n",
       "      <td>56045.000000</td>\n",
       "      <td>0.432000</td>\n",
       "      <td>0.384000</td>\n",
       "      <td>0.422000</td>\n",
       "      <td>0.549000</td>\n",
       "      <td>0.889000</td>\n",
       "    </tr>\n",
       "  </tbody>\n",
       "</table>\n",
       "<p>8 rows × 630 columns</p>\n",
       "</div>"
      ],
      "text/plain": [
       "                UID   code3          FIPS          Lat        Long_  \\\n",
       "count  3.141000e+03  3141.0   3141.000000  3141.000000  3141.000000   \n",
       "mean   8.403039e+07   840.0  30392.602674    38.448156   -92.272006   \n",
       "std    1.515661e+04     0.0  15156.613190     5.292540    12.909318   \n",
       "min    8.400100e+07   840.0   1001.000000    19.601212  -174.159600   \n",
       "25%    8.401818e+07   840.0  18179.000000    34.693167   -98.218207   \n",
       "50%    8.402918e+07   840.0  29177.000000    38.373019   -90.396561   \n",
       "75%    8.404508e+07   840.0  45081.000000    41.802830   -83.436796   \n",
       "max    8.405604e+07   840.0  56045.000000    69.314792   -67.628135   \n",
       "\n",
       "           1/22/20      1/23/20      1/24/20      1/25/20      1/26/20  ...  \\\n",
       "count  3141.000000  3141.000000  3141.000000  3141.000000  3141.000000  ...   \n",
       "mean      0.000318     0.000318     0.000637     0.000637     0.001592  ...   \n",
       "std       0.017843     0.017843     0.025230     0.025230     0.039873  ...   \n",
       "min       0.000000     0.000000     0.000000     0.000000     0.000000  ...   \n",
       "25%       0.000000     0.000000     0.000000     0.000000     0.000000  ...   \n",
       "50%       0.000000     0.000000     0.000000     0.000000     0.000000  ...   \n",
       "75%       0.000000     0.000000     0.000000     0.000000     0.000000  ...   \n",
       "max       1.000000     1.000000     1.000000     1.000000     1.000000  ...   \n",
       "\n",
       "       POPESTIMATE2018  POPESTIMATE2019  POPESTIMATE042020  POPESTIMATE2020  \\\n",
       "count     3.141000e+03     3.141000e+03       3.141000e+03     3.141000e+03   \n",
       "mean      1.040525e+05     1.045274e+05       1.048677e+05     1.048949e+05   \n",
       "std       3.326200e+05     3.332156e+05       3.335848e+05     3.333719e+05   \n",
       "min       8.700000e+01     8.700000e+01       9.000000e+01     8.700000e+01   \n",
       "25%       1.096300e+04     1.093600e+04       1.091900e+04     1.092100e+04   \n",
       "50%       2.583700e+04     2.573500e+04       2.570100e+04     2.565800e+04   \n",
       "75%       6.813600e+04     6.828200e+04       6.822000e+04     6.824100e+04   \n",
       "max       1.006153e+07     1.001160e+07       9.968969e+06     9.943046e+06   \n",
       "\n",
       "           COUNTYFP        NEVER       RARELY    SOMETIMES   FREQUENTLY  \\\n",
       "count   3141.000000  3141.000000  3141.000000  3141.000000  3141.000000   \n",
       "mean   30392.602674     0.079952     0.082929     0.121340     0.207728   \n",
       "std    15156.613190     0.058543     0.055469     0.058007     0.063581   \n",
       "min     1001.000000     0.000000     0.000000     0.001000     0.029000   \n",
       "25%    18179.000000     0.034000     0.040000     0.079000     0.164000   \n",
       "50%    29177.000000     0.068000     0.073000     0.115000     0.204000   \n",
       "75%    45081.000000     0.113000     0.115000     0.156000     0.247000   \n",
       "max    56045.000000     0.432000     0.384000     0.422000     0.549000   \n",
       "\n",
       "            ALWAYS  \n",
       "count  3141.000000  \n",
       "mean      0.508044  \n",
       "std       0.152190  \n",
       "min       0.115000  \n",
       "25%       0.393000  \n",
       "50%       0.497000  \n",
       "75%       0.613000  \n",
       "max       0.889000  \n",
       "\n",
       "[8 rows x 630 columns]"
      ]
     },
     "execution_count": 4,
     "metadata": {},
     "output_type": "execute_result"
    }
   ],
   "source": [
    "# Run this cell to load the data see see statistics of the covid_data\n",
    "covid_data.describe()"
   ]
  },
  {
   "cell_type": "markdown",
   "id": "689b16f3",
   "metadata": {},
   "source": [
    "<br><br>\n",
    "\n",
    "---\n",
    "\n",
    "### Question 1a\n",
    "\n",
    "In this homework, we will use linear regression to predict **the number of COVID-19 cases  per capita on September 12th, 2021**. Define a column `'9/12/2021_cpc'` in `covid_data` corresponding to the number of cases per capita on September 12th, 2021. \n",
    "\n",
    "Note that we will **always** use the `'POPESTIMATE2020'` as the population of each county.\n",
    "\n",
    "*Hint*: The number of cases per capita should be the total number of cases in a county divided by the population of the county.\n"
   ]
  },
  {
   "cell_type": "code",
   "execution_count": 5,
   "id": "db21e79a",
   "metadata": {
    "tags": []
   },
   "outputs": [],
   "source": [
    "covid_data['9/12/2021_cpc'] = covid_data['9/12/21']/covid_data['POPESTIMATE2020']"
   ]
  },
  {
   "cell_type": "code",
   "execution_count": 6,
   "id": "dbfe552a",
   "metadata": {
    "deletable": false,
    "editable": false
   },
   "outputs": [
    {
     "data": {
      "text/html": [
       "<p><strong><pre style='display: inline;'>q1a</pre></strong> passed!</p>"
      ],
      "text/plain": [
       "q1a results: All test cases passed!"
      ]
     },
     "execution_count": 6,
     "metadata": {},
     "output_type": "execute_result"
    }
   ],
   "source": [
    "grader.check(\"q1a\")"
   ]
  },
  {
   "cell_type": "markdown",
   "id": "cd65ba13",
   "metadata": {},
   "source": [
    "<br><br>\n",
    "\n",
    "---\n",
    "\n",
    "### Question 1b\n",
    "\n",
    "Assign `mask_data` that has six columns from the original `covid_data` table: the five mask usage columns described earlier and the `9/12/2021_cpc` column.\n",
    "\n",
    "**Note**: You should make a **copy** of these columns using `df.copy()` ([link](https://pandas.pydata.org/docs/reference/api/pandas.DataFrame.copy.html))."
   ]
  },
  {
   "cell_type": "code",
   "execution_count": 7,
   "id": "2ba95d3d",
   "metadata": {
    "tags": []
   },
   "outputs": [
    {
     "data": {
      "text/html": [
       "<div>\n",
       "<style scoped>\n",
       "    .dataframe tbody tr th:only-of-type {\n",
       "        vertical-align: middle;\n",
       "    }\n",
       "\n",
       "    .dataframe tbody tr th {\n",
       "        vertical-align: top;\n",
       "    }\n",
       "\n",
       "    .dataframe thead th {\n",
       "        text-align: right;\n",
       "    }\n",
       "</style>\n",
       "<table border=\"1\" class=\"dataframe\">\n",
       "  <thead>\n",
       "    <tr style=\"text-align: right;\">\n",
       "      <th></th>\n",
       "      <th>NEVER</th>\n",
       "      <th>RARELY</th>\n",
       "      <th>SOMETIMES</th>\n",
       "      <th>FREQUENTLY</th>\n",
       "      <th>ALWAYS</th>\n",
       "      <th>9/12/2021_cpc</th>\n",
       "    </tr>\n",
       "  </thead>\n",
       "  <tbody>\n",
       "    <tr>\n",
       "      <th>0</th>\n",
       "      <td>0.053</td>\n",
       "      <td>0.074</td>\n",
       "      <td>0.134</td>\n",
       "      <td>0.295</td>\n",
       "      <td>0.444</td>\n",
       "      <td>0.165411</td>\n",
       "    </tr>\n",
       "    <tr>\n",
       "      <th>1</th>\n",
       "      <td>0.083</td>\n",
       "      <td>0.059</td>\n",
       "      <td>0.098</td>\n",
       "      <td>0.323</td>\n",
       "      <td>0.436</td>\n",
       "      <td>0.152429</td>\n",
       "    </tr>\n",
       "    <tr>\n",
       "      <th>2</th>\n",
       "      <td>0.067</td>\n",
       "      <td>0.121</td>\n",
       "      <td>0.120</td>\n",
       "      <td>0.201</td>\n",
       "      <td>0.491</td>\n",
       "      <td>0.134003</td>\n",
       "    </tr>\n",
       "    <tr>\n",
       "      <th>3</th>\n",
       "      <td>0.020</td>\n",
       "      <td>0.034</td>\n",
       "      <td>0.096</td>\n",
       "      <td>0.278</td>\n",
       "      <td>0.572</td>\n",
       "      <td>0.171440</td>\n",
       "    </tr>\n",
       "    <tr>\n",
       "      <th>4</th>\n",
       "      <td>0.053</td>\n",
       "      <td>0.114</td>\n",
       "      <td>0.180</td>\n",
       "      <td>0.194</td>\n",
       "      <td>0.459</td>\n",
       "      <td>0.158538</td>\n",
       "    </tr>\n",
       "    <tr>\n",
       "      <th>...</th>\n",
       "      <td>...</td>\n",
       "      <td>...</td>\n",
       "      <td>...</td>\n",
       "      <td>...</td>\n",
       "      <td>...</td>\n",
       "      <td>...</td>\n",
       "    </tr>\n",
       "    <tr>\n",
       "      <th>3136</th>\n",
       "      <td>0.061</td>\n",
       "      <td>0.295</td>\n",
       "      <td>0.230</td>\n",
       "      <td>0.146</td>\n",
       "      <td>0.268</td>\n",
       "      <td>0.143205</td>\n",
       "    </tr>\n",
       "    <tr>\n",
       "      <th>3137</th>\n",
       "      <td>0.095</td>\n",
       "      <td>0.157</td>\n",
       "      <td>0.160</td>\n",
       "      <td>0.247</td>\n",
       "      <td>0.340</td>\n",
       "      <td>0.196238</td>\n",
       "    </tr>\n",
       "    <tr>\n",
       "      <th>3138</th>\n",
       "      <td>0.098</td>\n",
       "      <td>0.278</td>\n",
       "      <td>0.154</td>\n",
       "      <td>0.207</td>\n",
       "      <td>0.264</td>\n",
       "      <td>0.158496</td>\n",
       "    </tr>\n",
       "    <tr>\n",
       "      <th>3139</th>\n",
       "      <td>0.204</td>\n",
       "      <td>0.155</td>\n",
       "      <td>0.069</td>\n",
       "      <td>0.285</td>\n",
       "      <td>0.287</td>\n",
       "      <td>0.144330</td>\n",
       "    </tr>\n",
       "    <tr>\n",
       "      <th>3140</th>\n",
       "      <td>0.142</td>\n",
       "      <td>0.129</td>\n",
       "      <td>0.148</td>\n",
       "      <td>0.207</td>\n",
       "      <td>0.374</td>\n",
       "      <td>0.122942</td>\n",
       "    </tr>\n",
       "  </tbody>\n",
       "</table>\n",
       "<p>3141 rows × 6 columns</p>\n",
       "</div>"
      ],
      "text/plain": [
       "      NEVER  RARELY  SOMETIMES  FREQUENTLY  ALWAYS  9/12/2021_cpc\n",
       "0     0.053   0.074      0.134       0.295   0.444       0.165411\n",
       "1     0.083   0.059      0.098       0.323   0.436       0.152429\n",
       "2     0.067   0.121      0.120       0.201   0.491       0.134003\n",
       "3     0.020   0.034      0.096       0.278   0.572       0.171440\n",
       "4     0.053   0.114      0.180       0.194   0.459       0.158538\n",
       "...     ...     ...        ...         ...     ...            ...\n",
       "3136  0.061   0.295      0.230       0.146   0.268       0.143205\n",
       "3137  0.095   0.157      0.160       0.247   0.340       0.196238\n",
       "3138  0.098   0.278      0.154       0.207   0.264       0.158496\n",
       "3139  0.204   0.155      0.069       0.285   0.287       0.144330\n",
       "3140  0.142   0.129      0.148       0.207   0.374       0.122942\n",
       "\n",
       "[3141 rows x 6 columns]"
      ]
     },
     "execution_count": 7,
     "metadata": {},
     "output_type": "execute_result"
    }
   ],
   "source": [
    "mask_data = covid_data[['NEVER', 'RARELY','SOMETIMES','FREQUENTLY','ALWAYS','9/12/2021_cpc']].copy()\n",
    "mask_data"
   ]
  },
  {
   "cell_type": "code",
   "execution_count": 8,
   "id": "e166f998",
   "metadata": {
    "deletable": false,
    "editable": false
   },
   "outputs": [
    {
     "data": {
      "text/html": [
       "<p><strong><pre style='display: inline;'>q1b</pre></strong> passed!</p>"
      ],
      "text/plain": [
       "q1b results: All test cases passed!"
      ]
     },
     "execution_count": 8,
     "metadata": {},
     "output_type": "execute_result"
    }
   ],
   "source": [
    "grader.check(\"q1b\")"
   ]
  },
  {
   "cell_type": "markdown",
   "id": "8965e869",
   "metadata": {},
   "source": [
    "<!-- BEGIN QUESTION -->\n",
    "\n",
    "<br><br>\n",
    "\n",
    "---\n",
    "\n",
    "### Question 1c\n",
    "\n",
    "Our goal is to use county-wise mask usage data to predict the number of COVID-19 cases per capita on September 12th, 2021 (i.e., the column `9/12/2021_cpc`). But before modeling, let's do some EDA to explore the multicollinearality in these features, and then we will revisit this question in part 4. \n",
    "\n",
    "Create a visualization that shows the pairwise correlation between each combination of columns in `mask_data`. For 2-D visualizations, consider Seaborn's [heatmap](https://seaborn.pydata.org/generated/seaborn.heatmap.html). Remember to add a title to your plot.\n",
    "\n",
    "**Hint**: You should be plotting 36 values corresponding to the [pairwise correlations](https://pandas.pydata.org/docs/reference/api/pandas.DataFrame.corr.html) of the six columns in `mask_data`.\n"
   ]
  },
  {
   "cell_type": "code",
   "execution_count": 9,
   "id": "c93ae403",
   "metadata": {
    "tags": []
   },
   "outputs": [
    {
     "data": {
      "image/png": "[encoded data removed]",
      "text/plain": [
       "<Figure size 1000x800 with 2 Axes>"
      ]
     },
     "metadata": {},
     "output_type": "display_data"
    }
   ],
   "source": [
    "correlation_matrix = mask_data.corr()\n",
    "plt.figure(figsize=(10, 8))\n",
    "sns.heatmap(correlation_matrix, annot=True, cmap='coolwarm', vmin=-1, vmax=1)\n",
    "plt.title(\"Pairwise Correlation between Columns in mask_data\", fontsize=16)\n",
    "plt.show()"
   ]
  },
  {
   "cell_type": "markdown",
   "id": "d4403785",
   "metadata": {},
   "source": [
    "<!-- END QUESTION -->\n",
    "\n",
    "<!-- BEGIN QUESTION -->\n",
    "\n",
    "<br><br>\n",
    "\n",
    "---\n",
    "\n",
    "### Question 1d\n",
    "\n",
    "(1) Describe the trends and takeaways visible in the visualization of pairwise correlations you plotted in Question 1c. Specifically, how does the correlation between pairs of features (i.e. mask usage) look like? How does the correlation between mask usage and cases per capita look like?\n",
    "\n",
    "(2) If we are going to build a linear regression model (with an intercept term) using all five mask usage columns as features, then what problem will we encounter?"
   ]
  },
  {
   "cell_type": "markdown",
   "id": "2496833f",
   "metadata": {},
   "source": [
    "(1) The overall correlation between the features are weak. However, Always of wearing mask has a generally high negative correlation with other featurs, with a value less than -0.6. This suggests that people who report higher mask usage tend to report lower mask avoidance and vice versa. It's also noticable that there are few positive kind of high correlation between features(i.e. Rarely and Never has a correlation of 0.43). From the graph, the cases per capita generally has a low correlation with other features, with a maximum of 0.23 correlation.\n",
    "(2) When building a linear regression model using all five mask usage columns as features, we will encounter multicollinearity. In this case, the high negative correlation between the mask usage columns can lead to a problem where the model cannot distinguish the individual effects of each mask usage category on the target variable (cases per capita). As a result, the model may not provide meaningful or interpretable coefficient estimates for the mask usage features, making it difficult to draw reliable conclusions from the model."
   ]
  },
  {
   "cell_type": "markdown",
   "id": "086ef76b",
   "metadata": {
    "tags": []
   },
   "source": [
    "<!-- END QUESTION -->\n",
    "\n",
    "<br/><br/><br/>\n",
    "\n",
    "<hr style=\"border: 1px solid #fdb515;\" />\n",
    "\n",
    "## Question 2: Creating a Preliminary COVID-19 Model\n",
    "\n",
    "This question will guide you through creating a linear regression model that will predict the number of COVID-19 cases per capita given various COVID-19 safety protocols that have been implemented. Then, we will investigate the bias, variance, and observational noise of this model in the next two questions.\n"
   ]
  },
  {
   "cell_type": "markdown",
   "id": "39cafc99",
   "metadata": {},
   "source": [
    "<br><br>\n",
    "\n",
    "---\n",
    "\n",
    "### Question 2a\n",
    "\n",
    "Despite the problems we see previously, let's train a linear regression model with an intercept term, using Scikit-learn, to predict the number of COVID-19 cases per capita for September 12, 2021 using county-wise mask usage data from `mask_data`. Use `train_test_split` to evaluate your model's RMSE on a held-out test set with 33% of the COVID-19 data; call the resulting splits `X_train`, `X_test`, `y_train`, and `y_test`.\n",
    "\n",
    "To pass the autograder, make sure to set the parameter `random_state` to 42 in your call to `train_test_split` to generate a reproducible data split ([documentation](http://scikit-learn.org/stable/modules/generated/sklearn.model_selection.train_test_split.html)).\n",
    "\n"
   ]
  },
  {
   "cell_type": "code",
   "execution_count": 10,
   "id": "b4d717c2",
   "metadata": {
    "tags": []
   },
   "outputs": [
    {
     "data": {
      "text/plain": [
       "(0.03552339478226883, 0.037954861477287)"
      ]
     },
     "execution_count": 10,
     "metadata": {},
     "output_type": "execute_result"
    }
   ],
   "source": [
    "# Create train/test sets\n",
    "X = mask_data[['NEVER', 'RARELY', 'SOMETIMES', 'FREQUENTLY', 'ALWAYS']]\n",
    "y = mask_data['9/12/2021_cpc']\n",
    "X_train, X_test, y_train, y_test = train_test_split(X,y,test_size=0.33,random_state=42)\n",
    "\n",
    "# Fit the linear model and make predictions (you will need multiple lines)\n",
    "model = lm.LinearRegression()\n",
    "model.fit(X_train, y_train)\n",
    "y_train_pred = model.predict(X_train)\n",
    "y_test_pred = model.predict(X_test)\n",
    "\n",
    "# Compute RMSE on train and test sets\n",
    "train_rmse_cpc = np.sqrt(np.mean((y_train-y_train_pred)**2))\n",
    "test_rmse_cpc = np.sqrt(np.mean((y_test-y_test_pred)**2))\n",
    "\n",
    "\n",
    "train_rmse_cpc, test_rmse_cpc"
   ]
  },
  {
   "cell_type": "code",
   "execution_count": 11,
   "id": "8ffb0f0f",
   "metadata": {
    "deletable": false,
    "editable": false
   },
   "outputs": [
    {
     "data": {
      "text/html": [
       "<p><strong><pre style='display: inline;'>q2a</pre></strong> passed!</p>"
      ],
      "text/plain": [
       "q2a results: All test cases passed!"
      ]
     },
     "execution_count": 11,
     "metadata": {},
     "output_type": "execute_result"
    }
   ],
   "source": [
    "grader.check(\"q2a\")"
   ]
  },
  {
   "cell_type": "markdown",
   "id": "865afd99",
   "metadata": {},
   "source": [
    "<!-- BEGIN QUESTION -->\n",
    "\n",
    "<br><br>\n",
    "\n",
    "---\n",
    "\n",
    "### Question 2b\n",
    "\n",
    "To visualize the model performance from part (a), let's make the following two visualizations: \n",
    "\n",
    "(1) The predicted values vs. observed values on the test set,\n",
    "\n",
    "(2) The residuals plot. (Note: in multiple linear regression, the residual plot has the residuals plotted against the predicted values) \n",
    "\n",
    "**Note:**\n",
    "* We've used `plt.subplot` ([documentation](https://matplotlib.org/stable/gallery/subplots_axes_and_figures/subplots_demo.html)) so that you can view both visualizations side-by-side. For example, `plt.subplot(121)` sets the plottable area to the first column of a 1x2 plot grid; you can then call Matplotlib and Seaborn functions to plot that area, before the next `plt.subplot(122)` area is set.\n",
    "* Remember to add a guiding line to both plot where $\\hat{y} = y$, i.e., where the residual is 0.\n",
    "* Please add descriptive titles and axis labels for your plots!"
   ]
  },
  {
   "cell_type": "code",
   "execution_count": 12,
   "id": "47ea0ff3",
   "metadata": {
    "tags": []
   },
   "outputs": [
    {
     "data": {
      "image/png": "[encoded data removed]",
      "text/plain": [
       "<Figure size 1200x600 with 2 Axes>"
      ]
     },
     "metadata": {},
     "output_type": "display_data"
    }
   ],
   "source": [
    "plt.figure(figsize=(12,6))      # do not change this line\n",
    "plt.subplot(121)                # do not change this line\n",
    "# (1) predictions vs. observations\n",
    "y_test_pred = model.predict(X_test)\n",
    "plt.scatter(y_test_pred, y_test, alpha=0.7, color='blue')\n",
    "plt.plot([min(y_test_pred), max(y_test_pred)], [min(y_test), max(y_test)], color='red', linestyle='--')\n",
    "plt.xlabel('Predicted Values')\n",
    "plt.ylabel('Observed Values')\n",
    "plt.title('Predicted Values vs. Observed Values')\n",
    "\n",
    "\n",
    "plt.subplot(122)               # do not change this line\n",
    "# (2) residual plot\n",
    "residuals = y_test - y_test_pred\n",
    "plt.scatter(y_test_pred, residuals, alpha=0.7, color='green')\n",
    "plt.axhline(y=0, color='red', linestyle='--')\n",
    "plt.xlabel('Predicted Values')\n",
    "plt.ylabel('Residuals')\n",
    "plt.title('Residual Plot')\n",
    "plt.tight_layout()             # do not change this line"
   ]
  },
  {
   "cell_type": "markdown",
   "id": "067bd86b",
   "metadata": {},
   "source": [
    "<!-- END QUESTION -->\n",
    "\n",
    "<!-- BEGIN QUESTION -->\n",
    "\n",
    "<br><br>\n",
    "\n",
    "---\n",
    "\n",
    "### Question 2c\n",
    "\n",
    "Describe what the plots in part (b) indicate about this linear model. In particular, are the predictions good?\n"
   ]
  },
  {
   "cell_type": "markdown",
   "id": "e3d6245e",
   "metadata": {},
   "source": [
    "The scatter plot of Observed Values vs. Predicted Values indicates that the model's predictions are not perfectly aligned with the actual observed values. Ideally, the data points should cluster tightly around the line y=ŷ (where y is the observed value and ŷ is the predicted value). However, we can see that the data points are scattered around the reference line (red dashed line) with some degree of variation, suggesting that the model's predictions are not precise.\n",
    "Also, in a well-performing linear regression model, the residuals should be randomly scattered around the x-axis with no specific pattern. However, in this case, we can observe a clear pattern in the residuals. The residuals seem to center around zero at approximately the range (0.12, 0.13) on the y-axis. This indicates that the model is capturing some patterns in the data but is not capturing all the variability. The residuals have more significant variations away from the center point, indicating that the model's predictions deviate more from the actual values for some data points."
   ]
  },
  {
   "cell_type": "markdown",
   "id": "6bdc635d",
   "metadata": {},
   "source": [
    "<!-- END QUESTION -->\n",
    "\n",
    "<br/><br/><br/>\n",
    "\n",
    "<hr style=\"border: 1px solid #fdb515;\" />\n",
    "\n",
    "## Question 3: Performing Multicollinearity Analysis\n",
    "\n",
    "This question will guide you through performing an analysis that can reveal potential multicollinearity in our features, which is not ideal. In particular, we will use bootstrap to get $95\\%$ confidence intervals on the fitted parameters. Here's a reminder of the outline of boostrapping:\n",
    "\n",
    "1. (3a) Assume the sample is a representative sample, we can simulate different samples by resampling from the original sample.\n",
    "2. (3b) Calculate statistic(s) for each resample to simulate different potential result. Statistic can be a mean (Lab 9), correlation (Lab 9), coefficients of a linear model (Q3 below), and any function of the sample data.\n",
    "3. (3c) Use the distribution of the above statistics calculated on each of the resample to construct confidence interval.\n",
    "4. (3d) Use the result of confidence interval to make inference of the population."
   ]
  },
  {
   "cell_type": "markdown",
   "id": "c3bfe231",
   "metadata": {},
   "source": [
    "<br><br>\n",
    "\n",
    "---\n",
    "\n",
    "### Question 3a\n",
    "\n",
    "Fill in the blanks below to implement the `bootstrap_sample` function, that returns $k$ randomly drawn samples from a dataset `data` of size $n$ with replacement, each of size $n$ (i.e. same size as the dataset). In other words, the returned object should be a Python list `samples` containing $k$ Pandas DataFrames, each of which have $n$ rows.\n",
    "\n",
    "**Hint**: You may find `df.sample` helpful, see [documentation](https://pandas.pydata.org/docs/reference/api/pandas.DataFrame.sample.html). This is very similar to Lab 8.\n"
   ]
  },
  {
   "cell_type": "code",
   "execution_count": 13,
   "id": "db8e8935",
   "metadata": {
    "tags": []
   },
   "outputs": [
    {
     "data": {
      "text/html": [
       "<div>\n",
       "<style scoped>\n",
       "    .dataframe tbody tr th:only-of-type {\n",
       "        vertical-align: middle;\n",
       "    }\n",
       "\n",
       "    .dataframe tbody tr th {\n",
       "        vertical-align: top;\n",
       "    }\n",
       "\n",
       "    .dataframe thead th {\n",
       "        text-align: right;\n",
       "    }\n",
       "</style>\n",
       "<table border=\"1\" class=\"dataframe\">\n",
       "  <thead>\n",
       "    <tr style=\"text-align: right;\">\n",
       "      <th></th>\n",
       "      <th>NEVER</th>\n",
       "      <th>RARELY</th>\n",
       "      <th>SOMETIMES</th>\n",
       "      <th>FREQUENTLY</th>\n",
       "      <th>ALWAYS</th>\n",
       "      <th>9/12/2021_cpc</th>\n",
       "    </tr>\n",
       "  </thead>\n",
       "  <tbody>\n",
       "    <tr>\n",
       "      <th>792</th>\n",
       "      <td>0.224</td>\n",
       "      <td>0.073</td>\n",
       "      <td>0.194</td>\n",
       "      <td>0.187</td>\n",
       "      <td>0.322</td>\n",
       "      <td>0.104543</td>\n",
       "    </tr>\n",
       "    <tr>\n",
       "      <th>726</th>\n",
       "      <td>0.094</td>\n",
       "      <td>0.084</td>\n",
       "      <td>0.205</td>\n",
       "      <td>0.258</td>\n",
       "      <td>0.359</td>\n",
       "      <td>0.141635</td>\n",
       "    </tr>\n",
       "    <tr>\n",
       "      <th>1565</th>\n",
       "      <td>0.183</td>\n",
       "      <td>0.109</td>\n",
       "      <td>0.103</td>\n",
       "      <td>0.189</td>\n",
       "      <td>0.416</td>\n",
       "      <td>0.150662</td>\n",
       "    </tr>\n",
       "    <tr>\n",
       "      <th>132</th>\n",
       "      <td>0.066</td>\n",
       "      <td>0.027</td>\n",
       "      <td>0.077</td>\n",
       "      <td>0.403</td>\n",
       "      <td>0.426</td>\n",
       "      <td>0.144108</td>\n",
       "    </tr>\n",
       "    <tr>\n",
       "      <th>836</th>\n",
       "      <td>0.032</td>\n",
       "      <td>0.096</td>\n",
       "      <td>0.229</td>\n",
       "      <td>0.232</td>\n",
       "      <td>0.411</td>\n",
       "      <td>0.124915</td>\n",
       "    </tr>\n",
       "    <tr>\n",
       "      <th>...</th>\n",
       "      <td>...</td>\n",
       "      <td>...</td>\n",
       "      <td>...</td>\n",
       "      <td>...</td>\n",
       "      <td>...</td>\n",
       "      <td>...</td>\n",
       "    </tr>\n",
       "    <tr>\n",
       "      <th>360</th>\n",
       "      <td>0.027</td>\n",
       "      <td>0.018</td>\n",
       "      <td>0.066</td>\n",
       "      <td>0.169</td>\n",
       "      <td>0.719</td>\n",
       "      <td>0.116085</td>\n",
       "    </tr>\n",
       "    <tr>\n",
       "      <th>200</th>\n",
       "      <td>0.075</td>\n",
       "      <td>0.016</td>\n",
       "      <td>0.049</td>\n",
       "      <td>0.094</td>\n",
       "      <td>0.766</td>\n",
       "      <td>0.180959</td>\n",
       "    </tr>\n",
       "    <tr>\n",
       "      <th>2175</th>\n",
       "      <td>0.173</td>\n",
       "      <td>0.175</td>\n",
       "      <td>0.213</td>\n",
       "      <td>0.135</td>\n",
       "      <td>0.303</td>\n",
       "      <td>0.143541</td>\n",
       "    </tr>\n",
       "    <tr>\n",
       "      <th>2059</th>\n",
       "      <td>0.042</td>\n",
       "      <td>0.052</td>\n",
       "      <td>0.084</td>\n",
       "      <td>0.213</td>\n",
       "      <td>0.609</td>\n",
       "      <td>0.105739</td>\n",
       "    </tr>\n",
       "    <tr>\n",
       "      <th>479</th>\n",
       "      <td>0.078</td>\n",
       "      <td>0.049</td>\n",
       "      <td>0.113</td>\n",
       "      <td>0.210</td>\n",
       "      <td>0.550</td>\n",
       "      <td>0.095107</td>\n",
       "    </tr>\n",
       "  </tbody>\n",
       "</table>\n",
       "<p>3141 rows × 6 columns</p>\n",
       "</div>"
      ],
      "text/plain": [
       "      NEVER  RARELY  SOMETIMES  FREQUENTLY  ALWAYS  9/12/2021_cpc\n",
       "792   0.224   0.073      0.194       0.187   0.322       0.104543\n",
       "726   0.094   0.084      0.205       0.258   0.359       0.141635\n",
       "1565  0.183   0.109      0.103       0.189   0.416       0.150662\n",
       "132   0.066   0.027      0.077       0.403   0.426       0.144108\n",
       "836   0.032   0.096      0.229       0.232   0.411       0.124915\n",
       "...     ...     ...        ...         ...     ...            ...\n",
       "360   0.027   0.018      0.066       0.169   0.719       0.116085\n",
       "200   0.075   0.016      0.049       0.094   0.766       0.180959\n",
       "2175  0.173   0.175      0.213       0.135   0.303       0.143541\n",
       "2059  0.042   0.052      0.084       0.213   0.609       0.105739\n",
       "479   0.078   0.049      0.113       0.210   0.550       0.095107\n",
       "\n",
       "[3141 rows x 6 columns]"
      ]
     },
     "execution_count": 13,
     "metadata": {},
     "output_type": "execute_result"
    }
   ],
   "source": [
    "def bootstrap_sample(data, k):\n",
    "    \"\"\"\n",
    "    Performs bootstrap sampling on data to obtain k samples of size n.\n",
    "    \n",
    "    Arguments:\n",
    "        data - Dataset contained as a Pandas DataFrame \n",
    "        k - Number of randomly drawn samples\n",
    "    \n",
    "    Returns:\n",
    "        samples - List containing k Pandas DataFrames of size n each\n",
    "                  corresponding to each sample  \n",
    "    \"\"\"\n",
    "    samples = []\n",
    "    n=len(data)\n",
    "    for _ in range(k):\n",
    "        x = data.sample(n=n, replace=True)\n",
    "        samples.append(x)\n",
    "    return samples\n",
    "\n",
    "# Print out the first dataframe only\n",
    "bootstrap_sample(mask_data, 1)[0]"
   ]
  },
  {
   "cell_type": "code",
   "execution_count": 14,
   "id": "55802cb7",
   "metadata": {
    "deletable": false,
    "editable": false
   },
   "outputs": [
    {
     "data": {
      "text/html": [
       "<p><strong><pre style='display: inline;'>q3a</pre></strong> passed!</p>"
      ],
      "text/plain": [
       "q3a results: All test cases passed!"
      ]
     },
     "execution_count": 14,
     "metadata": {},
     "output_type": "execute_result"
    }
   ],
   "source": [
    "grader.check(\"q3a\")"
   ]
  },
  {
   "cell_type": "markdown",
   "id": "b4f08735",
   "metadata": {},
   "source": [
    "<br><br>\n",
    "\n",
    "---\n",
    "\n",
    "### Question 3b\n",
    "\n",
    "Using the function from the previous part, let's do the following:\n",
    "\n",
    "1. Generate 1000 bootstrapped samples from the original `mask_data` dataframe. \n",
    "2.  For each of the 1000 bootstrapped samples, use `sklearn` to fit a linear regression model (with an intercept term) same as in Question 2, where mask usage are the features and `9/12/2021_cpc` is the response. You should fit 1000 models in total. \n",
    "3. Store each of the 1000 trained models in the Python list `models`.\n",
    "\n",
    "**Hint:**\n",
    "* You *should not* create any validation or testing sets in this subpart, your model should fit to the entire resampled dataframe.\n",
    "* `LinearRegression` is an object type, to store a new model you must create a new instance first!"
   ]
  },
  {
   "cell_type": "code",
   "execution_count": 15,
   "id": "d369a96f",
   "metadata": {
    "tags": []
   },
   "outputs": [],
   "source": [
    "np.random.seed(42)\n",
    "\n",
    "datasets = bootstrap_sample(mask_data, 1000)\n",
    "models = []\n",
    "for i in range(1000):\n",
    "    X = datasets[i][['NEVER', 'RARELY', 'SOMETIMES', 'FREQUENTLY', 'ALWAYS']]\n",
    "    y = datasets[i]['9/12/2021_cpc']\n",
    "    \n",
    "    \n",
    "    model = lm.LinearRegression()\n",
    "    model.fit(X, y)\n",
    "    \n",
    "    # Append the trained model to the list of models\n",
    "    models.append(model)\n",
    "\n",
    "\n",
    "# Datasets take up a lot of memory, so we should remove them!\n",
    "del datasets"
   ]
  },
  {
   "cell_type": "code",
   "execution_count": 16,
   "id": "8a11857d",
   "metadata": {
    "deletable": false,
    "editable": false
   },
   "outputs": [
    {
     "data": {
      "text/html": [
       "<p><strong><pre style='display: inline;'>q3b</pre></strong> passed!</p>"
      ],
      "text/plain": [
       "q3b results: All test cases passed!"
      ]
     },
     "execution_count": 16,
     "metadata": {},
     "output_type": "execute_result"
    }
   ],
   "source": [
    "grader.check(\"q3b\")"
   ]
  },
  {
   "cell_type": "markdown",
   "id": "1a7b13ea",
   "metadata": {},
   "source": [
    "<br><br>\n",
    "\n",
    "---\n",
    "\n",
    "### Question 3c\n",
    "\n",
    "Fill in the blanks below in the `confidence_interval` function to generate a $95\\%$ confidence interval for each of our parameters $\\theta_i$, including the intercept term $\\theta_0$. All of the helper code to extract coefficients from our trained models has been implemented for you already.\n",
    "\n",
    "**Hint**: \n",
    "- For a refresh on confidence intervals, refer to this link from the [Data 8 textbook](https://inferentialthinking.com/chapters/13/3/Confidence_Intervals.html). \n",
    "- Pay close attention to how the arrays used below are formated. What does each row represent? What does each column represent? To get the $i$th column from a 2D-array, you can use `2D_array[:, i]`.\n"
   ]
  },
  {
   "cell_type": "code",
   "execution_count": 17,
   "id": "192cbb4a",
   "metadata": {
    "tags": []
   },
   "outputs": [
    {
     "data": {
      "text/markdown": [
       "#### Confidence Intervals:"
      ],
      "text/plain": [
       "<IPython.core.display.Markdown object>"
      ]
     },
     "metadata": {},
     "output_type": "display_data"
    },
    {
     "data": {
      "text/markdown": [
       "|parameter|lower|upper|\n",
       "----|----|----|\n",
       "|$\\theta_0$|-2.6200726729046937|1.2507871842262086|\n",
       "|$\\theta_1$|-1.0896828874135185|2.798332585238362|\n",
       "|$\\theta_2$|-1.1461331540818134|2.744519025435908|\n",
       "|$\\theta_3$|-1.018294369222972|2.8436420433762395|\n",
       "|$\\theta_4$|-1.1582158941591825|2.7329392573407363|\n",
       "|$\\theta_5$|-1.1477854499077667|2.7195109052029274|"
      ],
      "text/plain": [
       "<IPython.core.display.Markdown object>"
      ]
     },
     "metadata": {},
     "output_type": "display_data"
    }
   ],
   "source": [
    "def extract_coefs(models, include_intercept = True):\n",
    "    \"\"\"\n",
    "    NOTE: This function has already been implemented. You do not need to modify this!\n",
    "    \n",
    "    Extracts coefficients of all the linear regression models in MODELS, and returns\n",
    "    it as a NumPy array with one model's coefficients as each row.\n",
    "    \n",
    "    Arguments:\n",
    "        models - Contains k sklearn LinearRegression models, each with p + 1 coefficients\n",
    "        include_intercept - Whether to include intercept in returned coefficients\n",
    "    \n",
    "    Returns:\n",
    "        coef_array - Coefficients of all k models, each with p + 1 coefficients (if intercept\n",
    "                     enabled, otherwise p). Returned object is k x (p + 1) NumPy array.\n",
    "    \"\"\"\n",
    "    coef_array = np.zeros(shape = (len(models), len(models[0].coef_) + 1))\n",
    "    for i, m in enumerate(models):\n",
    "        coef_array[i, 0] = m.intercept_\n",
    "        coef_array[i, 1:] = m.coef_\n",
    "    if include_intercept:\n",
    "        return coef_array \n",
    "    return coef_array[:, 1:]\n",
    "\n",
    "def confidence_interval(coefs):\n",
    "    \"\"\"\n",
    "    Calculates confidence intervals for each theta_i based on coefficients of \n",
    "    bootstrapped models. Returns output as a list of confidence intervals.\n",
    "    \n",
    "    Arguments:\n",
    "        coefs - Output of extract_coefs, a k x (p + 1) or k x p NumPy array containing\n",
    "                coefficients of bootstrapped models\n",
    "    \n",
    "    Returns:\n",
    "        cis - Confidence intervals of each parameter theta_i in the form of a \n",
    "              list like this: [(0.5, 0.75), (0.2, 0.4), ...]\n",
    "    \"\"\"\n",
    "    cis = []\n",
    "    \n",
    "    # FILL IN CODE BELOW\n",
    "    for i in range(coefs.shape[1]):\n",
    "        theta_i_values = coefs[:, i]\n",
    "        theta_i_lower_ci, theta_i_upper_ci = np.percentile(theta_i_values, 2.5), np.percentile(theta_i_values, 97.5)\n",
    "        cis.append((theta_i_lower_ci, theta_i_upper_ci))\n",
    "    \n",
    "    return cis\n",
    "\n",
    "\n",
    "# Compute confidence intervals\n",
    "model_coefs = extract_coefs(models)\n",
    "cis = confidence_interval(model_coefs)\n",
    "\n",
    "# Pretty print in a table\n",
    "display(Markdown('#### Confidence Intervals:'))\n",
    "md_list = [\"|parameter|lower|upper|\",\n",
    "           \"----|----|----|\"]\n",
    "md_list += [fr\"|$\\theta_{i}$|{lci}|{uci}|\" for i, (lci, uci) in enumerate(cis)]\n",
    "display(Markdown('\\n'.join(md_list)))"
   ]
  },
  {
   "cell_type": "code",
   "execution_count": 18,
   "id": "0b000275",
   "metadata": {
    "deletable": false,
    "editable": false
   },
   "outputs": [
    {
     "data": {
      "text/html": [
       "<p><strong><pre style='display: inline;'>q3c</pre></strong> passed!</p>"
      ],
      "text/plain": [
       "q3c results: All test cases passed!"
      ]
     },
     "execution_count": 18,
     "metadata": {},
     "output_type": "execute_result"
    }
   ],
   "source": [
    "grader.check(\"q3c\")"
   ]
  },
  {
   "cell_type": "markdown",
   "id": "27ff639e",
   "metadata": {},
   "source": [
    "<!-- BEGIN QUESTION -->\n",
    "\n",
    "<br><br>\n",
    "\n",
    "---\n",
    "\n",
    "### Question 3d\n",
    "\n",
    "Interpret the confidence intervals above for each of the $\\theta_i$, where $\\theta_0$ is the intercept term and the remaining $\\theta_i$'s are parameters corresponding to mask usage features. What does this indicate about our data and our model?\n",
    "\n",
    "Describe a reason why this could be happening.\n",
    "\n",
    "**Hint**: Take a look at the design matrix, heatmap, and response from Question 1!\n"
   ]
  },
  {
   "cell_type": "markdown",
   "id": "e901182c",
   "metadata": {},
   "source": [
    "The confidence intervals for each parameter, including the intercept term (theta_0) and the remaining parameters corresponding to mask usage features, indicate the uncertainty in the estimates of these parameters based on the bootstrapped models. The intervals represent a range of values  we are onfident that the true population parameter lies. The confidence intervals cover the value 0 for all features (including theta_0). This indicates that our data and model are not providing strong evidence that any of the mask usage features have a statistically significant impact on the response variable (9/12/2021_cpc). \n",
    "As observed in the heatmap from Question 1, some of the mask usage features may be highly correlated with each other. This multicollinearity can lead to unstable and less interpretable estimates of the coefficients."
   ]
  },
  {
   "cell_type": "markdown",
   "id": "09617d6f",
   "metadata": {},
   "source": [
    "<!-- END QUESTION -->\n",
    "\n",
    "<br/><br/><br/>\n",
    "\n",
    "<hr style=\"border: 1px solid #fdb515;\" />\n",
    "\n",
    "## Question 4: Performing Bias-Variance Analysis\n",
    "\n",
    "This question will guide you through performing an analysis that can estimate the bias and variance of our models, which can be helpful in modeling.\n",
    "\n",
    "Recall that the **model variance** on a data point $\\vec{x_k}$ is simply the variance of our predictions on that sample point $\\vec{x_k}$. \n",
    "\n",
    "$$\\text{model variance} = \\mathrm{Var}(\\hat{Y}(\\vec{x_k})) = \\mathrm{Var}(\\vec{x_k}^T\\hat{\\theta})$$\n",
    "\n",
    "Since we are using OLS, we can also rewrite our model as $\\hat{Y}(\\vec{x_k}) = \\vec{x_k}^T\\hat{\\theta} = \\hat{\\theta_0}\\times 1 + \\hat{\\theta_1}x_1 + ... + \\hat{\\theta_p}x_p$. To estimate the model variance, we can sample a particular data point $(\\vec{x_k}, y_k)$, and calculate the variance of the predictions using different fitted model in `models`. Note that the varaince is taken acorss different models, $\\vec{x_k}$ are pre-selected and fixed. \n",
    "\n",
    "Also recall that **model risk** for this point is the same as mean square error over all possible fitted models:\n",
    "\n",
    "$$\n",
    "\\text{model risk} = \\mathbb{E}\\left[\\left(y_k - \\hat{Y}(\\vec{x_k}) \\right)^2\\right] \\approx \\frac{1}{\\# \\text{ of bootstrap}}\\sum_{j=1}^{\\# \\text{ of bootstrap}} (y_k - \\hat{Y}_j(\\vec{x_k}))^2 = MSE(\\vec{x_k})\n",
    "$$\n",
    "\n",
    "Where the subscript is used to denote different models. Here, we are considering a particular observation of the random response variable $y_k$. Therefore model risk is an expectation over the estimate $\\hat{\\theta}_j$, coefficients corresponding to different models. $\\hat{\\theta}_j$ itself is a random variable, because it was derived by fitting to different random resamples. We can also find the ratio of model variance to model risk. You can interpret this ratio as the proportion of the expected square error on the data point \"captured\" or \"explained\" by the model variance: \n",
    "\n",
    "$$\n",
    "\\frac{\\text{model variance}}{\\text{model risk}}=\\frac{\\mathrm{Var}(\\hat{Y}(\\vec{x_k}))}{\\mathbb{E}\\left[\\left(y_k - \\hat{Y}(\\vec{x_k}) \\right)^2\\right]}\n",
    "$$"
   ]
  },
  {
   "cell_type": "markdown",
   "id": "ce0a0263",
   "metadata": {},
   "source": [
    "<br><br>\n",
    "\n",
    "---\n",
    "\n",
    "### Question 4a\n",
    "\n",
    "Let's use the 100th data point $(\\vec{x_{100}}, y_{100})$, i.e. k = 100 to find these quantities!\n",
    "\n",
    "Complete the function `simulate` that takes in a data point `xk`, `yk` and returns `model_risk`, `model_var`, and `ratio`, ratio of model variance to model risk.\n",
    "\n",
    "Here is a suggested format but you do not need to follow the skeleton code:\n",
    "* Assign `predictions` to a length 1000 vector where each element is the prediction on `xk` using a model in `models`. Note that sklearn's `.predict` return an array, but we only need a scaler prediction! Try to print out a prediction and ajust your code if needed.\n",
    "* Use `predictions` to compute estimated `model_risk`.\n",
    "* Use `predictions` to compute estimated `model_var`.\n",
    "* Use `model_risk` and `model_var` to compute the `ratio`, ratio of model variance to model risk.\n",
    "\n",
    "**Hint**: Use list comprehension for creating your predictions to save overhead of using multiple appends."
   ]
  },
  {
   "cell_type": "code",
   "execution_count": 19,
   "id": "26480122",
   "metadata": {
    "tags": []
   },
   "outputs": [
    {
     "data": {
      "text/plain": [
       "(0.0020706473192105674, 2.726872001409053e-06, 0.0013169176499108844)"
      ]
     },
     "execution_count": 19,
     "metadata": {},
     "output_type": "execute_result"
    }
   ],
   "source": [
    "def simulate(xk, yk, models):\n",
    "    predictions = [model.predict([xk])[0] for model in models]\n",
    "    model_risk = np.mean((yk - predictions) ** 2)\n",
    "    model_var = np.var(predictions)\n",
    "    ratio = model_var / model_risk\n",
    "    return model_risk, model_var, ratio\n",
    "\n",
    "x_100 = mask_data[['NEVER', 'RARELY', 'SOMETIMES', 'FREQUENTLY', 'ALWAYS']].iloc[100]\n",
    "y_100 = mask_data['9/12/2021_cpc'].iloc[100]\n",
    "model_risk, model_var, ratio = simulate(x_100, y_100, models)\n",
    "model_risk, model_var, ratio"
   ]
  },
  {
   "cell_type": "code",
   "execution_count": 20,
   "id": "fe33536a",
   "metadata": {
    "deletable": false,
    "editable": false
   },
   "outputs": [
    {
     "data": {
      "text/html": [
       "<p><strong><pre style='display: inline;'>q4a</pre></strong> passed!</p>"
      ],
      "text/plain": [
       "q4a results: All test cases passed!"
      ]
     },
     "execution_count": 20,
     "metadata": {},
     "output_type": "execute_result"
    }
   ],
   "source": [
    "grader.check(\"q4a\")"
   ]
  },
  {
   "cell_type": "markdown",
   "id": "fb5a7acb",
   "metadata": {},
   "source": [
    "<!-- BEGIN QUESTION -->\n",
    "\n",
    "<br><br>\n",
    "\n",
    "---\n",
    "\n",
    "### Question 4b\n",
    "\n",
    "Comment on the ratio `ratio`, which is the proportion of the expected square error on the data point captured by the model variance. Is the model variance the dominant term in the bias-variance decomposition? If not, what term(s) dominate the bias-variance decomposition?\n",
    "\n",
    "**Note**: The Bias-Variance decomposition from lecture:\n",
    "\n",
    "$$\n",
    "\\text{model risk} = \\sigma^2 + (\\text{model bias})^2 + \\text{model variance}\n",
    "$$\n",
    "\n",
    "where $\\sigma^2$ is the observation variance, or \"irreducible error\".\n"
   ]
  },
  {
   "cell_type": "markdown",
   "id": "2ebca78c",
   "metadata": {},
   "source": [
    "The rratio is approximately 0.0013169, which means that the model variance captures only about 0.1317% of the expected square error on the data point. In this case, the model variance is significantly smaller compared to the model risk, indicating that the model variance is not the dominant term in the bias-variance decomposition. Since the model variance is very small compared to the model risk, indicating that the model is not overfitting, and model risk can be decomposed into observation variiance, model bias, and model variance. We are not able to see if observation variance or model bias is the dominate decomposition."
   ]
  },
  {
   "cell_type": "markdown",
   "id": "b3c6195d",
   "metadata": {},
   "source": [
    "<!-- END QUESTION -->\n",
    "\n",
    "<br><br>\n",
    "\n",
    "---\n",
    "\n",
    "### Question 4c\n",
    "\n",
    "Now let's calculate the average variance and average mean square error across 250 randomly sampled $(x_i, y_i)$ points. In other words, estimate the following quantities across all $x_i$ and $y_i$ in `X_sample` and `y_sample`:\n",
    "\n",
    "$$\n",
    "\\frac{1}{250} \\sum_{k=1}^{250} \\mathrm{Var}\\left(\\hat{Y}(\\vec{x_k})\\right)\n",
    "$$\n",
    "\n",
    "and\n",
    "\n",
    "$$\n",
    "\\frac{1}{250} \\sum_{k=1}^{250} \\mathbb{E}\\left[ (y_k - \\hat{Y}(\\vec{x_k}))^2 \\right]\n",
    "$$\n",
    "\n",
    "**Hint:** Call `simulate` from 4a.\n"
   ]
  },
  {
   "cell_type": "code",
   "execution_count": 26,
   "id": "f9207650",
   "metadata": {
    "tags": []
   },
   "outputs": [
    {
     "data": {
      "text/plain": [
       "(2.8248352750171086e-06, 0.0016658308894561503)"
      ]
     },
     "execution_count": 26,
     "metadata": {},
     "output_type": "execute_result"
    }
   ],
   "source": [
    "np.random.seed(42)\n",
    "\n",
    "X_sample = X.sample(250)         # Generate 250 x_i\n",
    "y_sample = y.loc[X_sample.index] # ...and select the corresponding y_i\n",
    "\n",
    "var, mse = [], []\n",
    "for i in range(250):\n",
    "    xk, yk = X_sample.iloc[i], y_sample.iloc[i]\n",
    "    model_risk, model_var, _ = simulate(xk, yk, models)\n",
    "    var.append(model_var)\n",
    "    mse.append(model_risk)\n",
    "\n",
    "avg_var, avg_mse = np.mean(var), np.mean(mse)\n",
    "avg_var, avg_mse"
   ]
  },
  {
   "cell_type": "code",
   "execution_count": 22,
   "id": "fa1177d1",
   "metadata": {
    "deletable": false,
    "editable": false
   },
   "outputs": [
    {
     "data": {
      "text/html": [
       "<p><strong><pre style='display: inline;'>q4c</pre></strong> passed!</p>"
      ],
      "text/plain": [
       "q4c results: All test cases passed!"
      ]
     },
     "execution_count": 22,
     "metadata": {},
     "output_type": "execute_result"
    }
   ],
   "source": [
    "grader.check(\"q4c\")"
   ]
  },
  {
   "cell_type": "markdown",
   "id": "cdca017c",
   "metadata": {},
   "source": [
    "<!-- BEGIN QUESTION -->\n",
    "\n",
    "<br><br>\n",
    "\n",
    "---\n",
    "\n",
    "### Question 4d\n",
    "\n",
    "Propose a solution to reducing the mean square error using the insights gained from the bias-variance decomposition above.\n",
    "\n",
    "Assume that the standard bias-variance decomposition used in lecture can be applied here.\n"
   ]
  },
  {
   "cell_type": "markdown",
   "id": "e41e4a4a",
   "metadata": {},
   "source": [
    "We can use feature engineering. We can analyze the correlation between the features and the target variable to identify redundant or irrelevant features. Removing or transforming such features can help reduce the model variance and improve the model's ability to generalize to new dat unseen data.\r\n",
    "\r\n",
    "\r\n",
    "\r\n",
    "\r\n",
    "\r\n",
    "\r\n"
   ]
  },
  {
   "cell_type": "markdown",
   "id": "709691f3",
   "metadata": {
    "nbgrader": {
     "grade": false,
     "grade_id": "finish",
     "locked": true,
     "schema_version": 2,
     "solution": false
    },
    "tags": []
   },
   "source": [
    "<!-- END QUESTION -->\n",
    "\n",
    "<br><br>\n",
    "\n",
    "\n",
    "<hr style=\"border: 5px solid #003262;\" />\n",
    "<hr style=\"border: 1px solid #fdb515;\" />\n",
    "\n",
    "## Congratulations! You have finished Homework 7!\n",
    "\n",
    "Here are some cats :) Can you find their names? There are two ways you can find it on JupyterLab.\n",
    "\n",
    "<img src=\"Pandas.jpg\" width=\"370px\"/> <img src=\"Patches.jpg\" width=\"200px\" /> <img src=\"Pishi.jpg\" width=\"208px\" />\n",
    "\n",
    "\n",
    "Below, you will see two cells. Running the first cell will automatically generate a PDF of all questions that need to be manually graded, and running the second cell will automatically generate a zip with your autograded answers. **You are responsible for both the coding portion (the zip from Homework 7) and the written portion (the PDF with from Homework 7) to their respective Gradescope portals.** The coding proportion should be submitted to Homework 7 Coding as a single zip file, and the written portion should be submitted to Homework 7 Written as a single pdf file. When submitting the written portion, please ensure you select pages appropriately and check all plots appear. \n",
    "\n",
    "If there are issues with automatically generating the PDF in the first cell, you can try downloading the notebook as a PDF by clicking on `File -> Save and Export Notebook As... -> PDF`. If that doesn't work either, you can manually take screenshots of your answers to the manually graded questions and submit those. Either way, **you are responsible for ensuring your submission follows our requirements, we will NOT be granting regrade requests for submissions that don't follow instructions.**\n"
   ]
  },
  {
   "cell_type": "code",
   "execution_count": 23,
   "id": "33f53e03",
   "metadata": {},
   "outputs": [
    {
     "data": {
      "text/html": [
       "Download your PDF <a href='hw07.pdf' download>here</a>."
      ],
      "text/plain": [
       "<IPython.core.display.HTML object>"
      ]
     },
     "metadata": {},
     "output_type": "display_data"
    }
   ],
   "source": [
    "from otter.export import export_notebook\n",
    "from os import path\n",
    "from IPython.display import display, HTML\n",
    "export_notebook(\"hw07.ipynb\", filtering=True, pagebreaks=True)\n",
    "if(path.exists('hw07.pdf')):\n",
    "    display(HTML(\"Download your PDF <a href='hw07.pdf' download>here</a>.\"))\n",
    "else:\n",
    "    print(\"\\n Pdf generation fails, please try the other methods described above\")"
   ]
  },
  {
   "cell_type": "markdown",
   "id": "955dbca1",
   "metadata": {
    "deletable": false,
    "editable": false
   },
   "source": [
    "## Submission\n",
    "\n",
    "Make sure you have run all cells in your notebook in order before running the cell below, so that all images/graphs appear in the output. The cell below will generate a zip file for you to submit. **Please save before exporting!**"
   ]
  },
  {
   "cell_type": "code",
   "execution_count": 24,
   "id": "59490d57",
   "metadata": {
    "deletable": false,
    "editable": false
   },
   "outputs": [
    {
     "name": "stdout",
     "output_type": "stream",
     "text": [
      "Running your submission against local test cases...\n",
      "\n",
      "Your submission received the following results when run against available test cases:\n",
      "\n",
      "    q1a results: All test cases passed!\n",
      "\n",
      "    q1b results: All test cases passed!\n",
      "\n",
      "    q2a results: All test cases passed!\n",
      "\n",
      "    q3a results: All test cases passed!\n",
      "\n",
      "    q3b results: All test cases passed!\n",
      "\n",
      "    q3c results: All test cases passed!\n",
      "\n",
      "    q4a results: All test cases passed!\n",
      "\n",
      "    q4c results: All test cases passed!\n"
     ]
    },
    {
     "data": {
      "text/html": [
       "\n",
       "            <p>Your submission has been exported. Click <a href=\"hw07_2023_07_27T21_15_41_631225.zip\" download=\"hw07_2023_07_27T21_15_41_631225.zip\" target=\"_blank\">here</a>\n",
       "            to download the zip file.</p>\n",
       "            "
      ],
      "text/plain": [
       "<IPython.core.display.HTML object>"
      ]
     },
     "metadata": {},
     "output_type": "display_data"
    }
   ],
   "source": [
    "# Save your notebook first, then run this cell to export your submission.\n",
    "grader.export(run_tests=True)"
   ]
  },
  {
   "cell_type": "markdown",
   "id": "e4babde7",
   "metadata": {},
   "source": [
    " "
   ]
  }
 ],
 "metadata": {
  "kernelspec": {
   "display_name": "Python 3 (ipykernel)",
   "language": "python",
   "name": "python3"
  },
  "language_info": {
   "codemirror_mode": {
    "name": "ipython",
    "version": 3
   },
   "file_extension": ".py",
   "mimetype": "text/x-python",
   "name": "python",
   "nbconvert_exporter": "python",
   "pygments_lexer": "ipython3",
   "version": "3.11.0"
  },
  "otter": {
   "OK_FORMAT": true,
   "tests": {
    "q1a": {
     "name": "q1a",
     "points": 3,
     "suites": [
      {
       "cases": [
        {
         "code": ">>> np.isclose(covid_data['9/12/2021_cpc'].iloc[0], 0.16541098940244012)\nTrue",
         "hidden": false,
         "locked": false
        },
        {
         "code": ">>> np.isclose(covid_data['9/12/2021_cpc'].sum(), 397.68435739730006)\nTrue",
         "hidden": false,
         "locked": false
        }
       ],
       "scored": true,
       "setup": "",
       "teardown": "",
       "type": "doctest"
      }
     ]
    },
    "q1b": {
     "name": "q1b",
     "points": 1,
     "suites": [
      {
       "cases": [
        {
         "code": ">>> mask_data.shape == (3141, 6) or mask_data.shape == (3141, 7)\nTrue",
         "hidden": false,
         "locked": false
        }
       ],
       "scored": true,
       "setup": "",
       "teardown": "",
       "type": "doctest"
      }
     ]
    },
    "q2a": {
     "name": "q2a",
     "points": 4,
     "suites": [
      {
       "cases": [
        {
         "code": ">>> 0.01 <= train_rmse_cpc <= 0.05\nTrue",
         "hidden": false,
         "locked": false
        },
        {
         "code": ">>> 0.01 <= test_rmse_cpc <= 0.05\nTrue",
         "hidden": false,
         "locked": false
        }
       ],
       "scored": true,
       "setup": "",
       "teardown": "",
       "type": "doctest"
      }
     ]
    },
    "q3a": {
     "name": "q3a",
     "points": 2,
     "suites": [
      {
       "cases": [
        {
         "code": ">>> all([len(df_i) == len(mask_data) for df_i in bootstrap_sample(mask_data, 1)])\nTrue",
         "hidden": false,
         "locked": false
        },
        {
         "code": ">>> len(bootstrap_sample(mask_data, 3)) == 3\nTrue",
         "hidden": false,
         "locked": false
        },
        {
         "code": ">>> np.isclose(bootstrap_sample(mask_data, 1)[0]['NEVER'].mean(), 0.0799, atol = 8e-3)\nTrue",
         "hidden": false,
         "locked": false
        }
       ],
       "scored": true,
       "setup": "",
       "teardown": "",
       "type": "doctest"
      }
     ]
    },
    "q3b": {
     "name": "q3b",
     "points": 4,
     "suites": [
      {
       "cases": [
        {
         "code": ">>> len(models) == 1000\nTrue",
         "hidden": false,
         "locked": false
        },
        {
         "code": ">>> all([isinstance(model, lm.LinearRegression) for model in models])\nTrue",
         "hidden": false,
         "locked": false
        },
        {
         "code": ">>> all([len(model.coef_) == 5 and model.intercept_ != 0 for model in models])\nTrue",
         "hidden": false,
         "locked": false
        },
        {
         "code": ">>> all(models[0].coef_ != models[1].coef_)\nTrue",
         "hidden": false,
         "locked": false
        }
       ],
       "scored": true,
       "setup": "",
       "teardown": "",
       "type": "doctest"
      }
     ]
    },
    "q3c": {
     "name": "q3c",
     "points": 2,
     "suites": [
      {
       "cases": [
        {
         "code": ">>> len(cis) == 6 and all(len(ci) == 2 for ci in cis)\nTrue",
         "hidden": false,
         "locked": false
        },
        {
         "code": ">>> all([lci < 0 and uci > 0 for lci, uci in cis])\nTrue",
         "hidden": false,
         "locked": false
        }
       ],
       "scored": true,
       "setup": "",
       "teardown": "",
       "type": "doctest"
      }
     ]
    },
    "q4a": {
     "name": "q4a",
     "points": 3,
     "suites": [
      {
       "cases": [
        {
         "code": ">>> model_risk <= 0.003\nTrue",
         "hidden": false,
         "locked": false
        },
        {
         "code": ">>> model_var <= 1e-5\nTrue",
         "hidden": false,
         "locked": false
        },
        {
         "code": ">>> np.isclose(ratio, 0.001316917649910885, atol = 1e-3)\nTrue",
         "hidden": false,
         "locked": false
        }
       ],
       "scored": true,
       "setup": "",
       "teardown": "",
       "type": "doctest"
      }
     ]
    },
    "q4c": {
     "name": "q4c",
     "points": 2,
     "suites": [
      {
       "cases": [
        {
         "code": ">>> avg_var <= 1e-5\nTrue",
         "hidden": false,
         "locked": false
        },
        {
         "code": ">>> avg_mse <= 5e-3\nTrue",
         "hidden": false,
         "locked": false
        }
       ],
       "scored": true,
       "setup": "",
       "teardown": "",
       "type": "doctest"
      }
     ]
    }
   }
  }
 },
 "nbformat": 4,
 "nbformat_minor": 5
}
